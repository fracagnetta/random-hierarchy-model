{
 "cells": [
  {
   "cell_type": "markdown",
   "metadata": {},
   "source": [
    "## TEST MODELS INITIALISATION"
   ]
  },
  {
   "cell_type": "code",
   "execution_count": 1,
   "metadata": {},
   "outputs": [
    {
     "data": {
      "text/plain": [
       "<module 'models' from '/home/cagnetta/Projects/random-hierarchy-model/models/../models/__init__.py'>"
      ]
     },
     "execution_count": 1,
     "metadata": {},
     "output_type": "execute_result"
    }
   ],
   "source": [
    "import sys\n",
    "sys.path.append('../')\n",
    "\n",
    "import numpy as np\n",
    "import random\n",
    "import torch\n",
    "import torch.nn as nn\n",
    "import torch.nn.functional as F\n",
    "import torch.optim as optim\n",
    "import torch.utils.data as data_utils\n",
    "\n",
    "import datasets\n",
    "import models\n",
    "import importlib\n",
    "importlib.reload(datasets)\n",
    "importlib.reload(models)"
   ]
  },
  {
   "cell_type": "markdown",
   "metadata": {},
   "source": [
    "## IMPORT A HIERARCHICAL DATASET TO TEST THE MODELS"
   ]
  },
  {
   "cell_type": "code",
   "execution_count": 2,
   "metadata": {},
   "outputs": [
    {
     "name": "stdout",
     "output_type": "stream",
     "text": [
      "input: tensor of size torch.Size([1024, 8, 8])\n",
      "outputs: tensor of size torch.Size([1024])\n",
      "total dataset size: 16777216.0\n"
     ]
    }
   ],
   "source": [
    "v = 8\n",
    "m = 8\n",
    "L = 3\n",
    "n = 8\n",
    "s = 2\n",
    "\n",
    "input_size = s**L # number of pixels, actual input size is (input_size x num_features) because of one-hot encoding\n",
    "num_data = n * (m**((s**L-1)/(s-1))) # total number of data\n",
    "\n",
    "seed_rules = 12345678 # seed of the random hierarchy model\n",
    "train_size = 1024 # size of the training set\n",
    "test_size = 0 # size of the test set\n",
    "\n",
    "# to generate the full dataset: set trainset=num_data, test_size=0\n",
    "\n",
    "dataset = datasets.RandomHierarchyModel(\n",
    "    num_features=v, # vocabulary size\n",
    "    num_synonyms=m, # features multiplicity\n",
    "    num_layers=L, # number of layers\n",
    "    num_classes=n, # number of classes\n",
    "    tuple_size=s, # number of branches of the tree\n",
    "    seed_rules=seed_rules,\n",
    "    train_size=train_size,\n",
    "    test_size=test_size,\n",
    "    input_format='onehot',\n",
    "    whitening=0 # 1 to whiten the input\n",
    ")\n",
    "\n",
    "x = dataset.features\n",
    "y = dataset.labels\n",
    "print('input: tensor of size', x.size())\n",
    "print('outputs: tensor of size', y.size())\n",
    "print('total dataset size:', num_data)"
   ]
  },
  {
   "cell_type": "code",
   "execution_count": 3,
   "metadata": {},
   "outputs": [
    {
     "name": "stdout",
     "output_type": "stream",
     "text": [
      "MLP(\n",
      "  (hidden): Sequential(\n",
      "    (0): Sequential(\n",
      "      (0): MyLinear()\n",
      "      (1): ReLU()\n",
      "    )\n",
      "    (1): Sequential(\n",
      "      (0): MyLinear()\n",
      "      (1): ReLU()\n",
      "    )\n",
      "    (2): Sequential(\n",
      "      (0): MyLinear()\n",
      "      (1): ReLU()\n",
      "    )\n",
      "  )\n",
      ")\n",
      "1-th layer weights, size: torch.Size([256, 64])\n",
      "2-th layer weights, size: torch.Size([256, 256])\n",
      "3-th layer weights, size: torch.Size([256, 256])\n",
      "readout weights, size: torch.Size([256, 8])\n",
      "torch.Size([1024, 8])\n"
     ]
    }
   ],
   "source": [
    "depth = 3\n",
    "width = 256\n",
    "\n",
    "model_fcn = models.MLP( input_size*v, width, n, depth)\n",
    "print(model_fcn)\n",
    "\n",
    "for i in range(depth):\n",
    "    print(f'{i+1}-th layer weights, size:', model_fcn.hidden[i][0].weight.size())\n",
    "print(f'readout weights, size:', model_fcn.readout.size())\n",
    "\n",
    "model_y = model_fcn(x.flatten(start_dim=1))\n",
    "print(model_y.size())"
   ]
  },
  {
   "cell_type": "code",
   "execution_count": 4,
   "metadata": {},
   "outputs": [
    {
     "name": "stdout",
     "output_type": "stream",
     "text": [
      "hCNN(\n",
      "  (hidden): Sequential(\n",
      "    (0): Sequential(\n",
      "      (0): MyConv1d()\n",
      "      (1): ReLU()\n",
      "    )\n",
      "    (1): Sequential(\n",
      "      (0): MyConv1d()\n",
      "      (1): ReLU()\n",
      "    )\n",
      "    (2): Sequential(\n",
      "      (0): MyConv1d()\n",
      "      (1): ReLU()\n",
      "    )\n",
      "  )\n",
      ")\n",
      "1-th layer weights, size: torch.Size([256, 8, 2])\n",
      "2-th layer weights, size: torch.Size([256, 256, 2])\n",
      "3-th layer weights, size: torch.Size([256, 256, 2])\n",
      "readout weights, size: torch.Size([256, 8])\n",
      "1-th hidden rep. size: torch.Size([1024, 256, 4])\n",
      "2-th hidden rep. size: torch.Size([1024, 256, 2])\n",
      "3-th hidden rep. size: torch.Size([1024, 256, 1])\n"
     ]
    }
   ],
   "source": [
    "depth = 3\n",
    "width = 256\n",
    "\n",
    "model_cnn = models.hCNN( input_size, s, v, width, n, depth)\n",
    "\n",
    "print(model_cnn)\n",
    "\n",
    "for i in range(depth):\n",
    "    print(f'{i+1}-th layer weights, size:', model_cnn.hidden[i][0].filter.size())\n",
    "print(f'readout weights, size:', model_cnn.readout.size())\n",
    "\n",
    "model_y = x\n",
    "for i in range(depth):\n",
    "    model_y = model_cnn.hidden[i][0](model_y).relu()\n",
    "    print(f'{i+1}-th hidden rep. size:', model_y.size())\n",
    "# model_y = model_cnn(x)\n",
    "# print(model_y.size())"
   ]
  },
  {
   "cell_type": "code",
   "execution_count": 14,
   "metadata": {},
   "outputs": [
    {
     "name": "stdout",
     "output_type": "stream",
     "text": [
      "MLA(\n",
      "  (position_embedding): Embedding(8, 256)\n",
      "  (blocks): Sequential(\n",
      "    (0): AttentionBlock(\n",
      "      (sa): MultiHeadAttention()\n",
      "    )\n",
      "    (1): AttentionBlock(\n",
      "      (sa): MultiHeadAttention()\n",
      "    )\n",
      "    (2): AttentionBlock(\n",
      "      (sa): MultiHeadAttention()\n",
      "    )\n",
      "  )\n",
      ")\n"
     ]
    },
    {
     "ename": "AttributeError",
     "evalue": "'MLA' object has no attribute 'token_emb'",
     "output_type": "error",
     "traceback": [
      "\u001b[0;31m---------------------------------------------------------------------------\u001b[0m",
      "\u001b[0;31mAttributeError\u001b[0m                            Traceback (most recent call last)",
      "\u001b[0;32m<ipython-input-14-11a5b904c6af>\u001b[0m in \u001b[0;36m<module>\u001b[0;34m\u001b[0m\n\u001b[1;32m      5\u001b[0m \u001b[0mmodel_mla\u001b[0m \u001b[0;34m=\u001b[0m \u001b[0mmodels\u001b[0m\u001b[0;34m.\u001b[0m\u001b[0mMLA\u001b[0m\u001b[0;34m(\u001b[0m \u001b[0mv\u001b[0m\u001b[0;34m,\u001b[0m \u001b[0minput_size\u001b[0m\u001b[0;34m,\u001b[0m \u001b[0membedding_dim\u001b[0m\u001b[0;34m,\u001b[0m \u001b[0mnum_heads\u001b[0m\u001b[0;34m,\u001b[0m \u001b[0mdepth\u001b[0m\u001b[0;34m)\u001b[0m\u001b[0;34m\u001b[0m\u001b[0;34m\u001b[0m\u001b[0m\n\u001b[1;32m      6\u001b[0m \u001b[0mprint\u001b[0m\u001b[0;34m(\u001b[0m\u001b[0mmodel_mla\u001b[0m\u001b[0;34m)\u001b[0m\u001b[0;34m\u001b[0m\u001b[0;34m\u001b[0m\u001b[0m\n\u001b[0;32m----> 7\u001b[0;31m \u001b[0mprint\u001b[0m\u001b[0;34m(\u001b[0m\u001b[0;34m'embedding:'\u001b[0m\u001b[0;34m,\u001b[0m \u001b[0mmodel_mla\u001b[0m\u001b[0;34m.\u001b[0m\u001b[0mtoken_emb\u001b[0m\u001b[0;34m.\u001b[0m\u001b[0msize\u001b[0m\u001b[0;34m(\u001b[0m\u001b[0;34m)\u001b[0m\u001b[0;34m)\u001b[0m\u001b[0;34m\u001b[0m\u001b[0;34m\u001b[0m\u001b[0m\n\u001b[0m\u001b[1;32m      8\u001b[0m \u001b[0mprint\u001b[0m\u001b[0;34m(\u001b[0m\u001b[0;34m'readout size:'\u001b[0m\u001b[0;34m,\u001b[0m \u001b[0mmodel_mla\u001b[0m\u001b[0;34m.\u001b[0m\u001b[0mreadout\u001b[0m\u001b[0;34m.\u001b[0m\u001b[0msize\u001b[0m\u001b[0;34m(\u001b[0m\u001b[0;34m)\u001b[0m\u001b[0;34m)\u001b[0m\u001b[0;34m\u001b[0m\u001b[0;34m\u001b[0m\u001b[0m\n\u001b[1;32m      9\u001b[0m \u001b[0;34m\u001b[0m\u001b[0m\n",
      "\u001b[0;32m~/.local/lib/python3.8/site-packages/torch/nn/modules/module.py\u001b[0m in \u001b[0;36m__getattr__\u001b[0;34m(self, name)\u001b[0m\n\u001b[1;32m   1612\u001b[0m             \u001b[0;32mif\u001b[0m \u001b[0mname\u001b[0m \u001b[0;32min\u001b[0m \u001b[0mmodules\u001b[0m\u001b[0;34m:\u001b[0m\u001b[0;34m\u001b[0m\u001b[0;34m\u001b[0m\u001b[0m\n\u001b[1;32m   1613\u001b[0m                 \u001b[0;32mreturn\u001b[0m \u001b[0mmodules\u001b[0m\u001b[0;34m[\u001b[0m\u001b[0mname\u001b[0m\u001b[0;34m]\u001b[0m\u001b[0;34m\u001b[0m\u001b[0;34m\u001b[0m\u001b[0m\n\u001b[0;32m-> 1614\u001b[0;31m         raise AttributeError(\"'{}' object has no attribute '{}'\".format(\n\u001b[0m\u001b[1;32m   1615\u001b[0m             type(self).__name__, name))\n\u001b[1;32m   1616\u001b[0m \u001b[0;34m\u001b[0m\u001b[0m\n",
      "\u001b[0;31mAttributeError\u001b[0m: 'MLA' object has no attribute 'token_emb'"
     ]
    }
   ],
   "source": [
    "embedding_dim = 256\n",
    "num_heads = 8\n",
    "depth = 3\n",
    "\n",
    "model_mla = models.MLA( v, input_size, embedding_dim, num_heads, depth)\n",
    "print(model_mla)\n",
    "print('embedding:', model_mla.token_embed.size())\n",
    "print('readout size:', model_mla.readout.size())\n",
    "\n",
    "\n",
    "# model_y = x.transpose(1,2)\n",
    "\n",
    "# for i in range(depth):\n",
    "#     model_y = model_mla.blocks[i].sa(model_y)\n",
    "#     print(f'{i+1}-th hidden rep. size:', model_y.size())\n",
    "model_y = model_mla(model_y)\n",
    "print(model_y.size())"
   ]
  },
  {
   "cell_type": "code",
   "execution_count": null,
   "metadata": {},
   "outputs": [],
   "source": []
  }
 ],
 "metadata": {
  "kernelspec": {
   "display_name": "Python 3",
   "language": "python",
   "name": "python3"
  },
  "language_info": {
   "codemirror_mode": {
    "name": "ipython",
    "version": 3
   },
   "file_extension": ".py",
   "mimetype": "text/x-python",
   "name": "python",
   "nbconvert_exporter": "python",
   "pygments_lexer": "ipython3",
   "version": "3.8.10"
  }
 },
 "nbformat": 4,
 "nbformat_minor": 4
}
