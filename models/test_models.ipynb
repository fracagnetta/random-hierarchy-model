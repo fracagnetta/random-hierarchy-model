{
 "cells": [
  {
   "cell_type": "markdown",
   "metadata": {},
   "source": [
    "## TEST MODELS INITIALISATION"
   ]
  },
  {
   "cell_type": "code",
   "execution_count": 1,
   "metadata": {},
   "outputs": [
    {
     "data": {
      "text/plain": [
       "<module 'models' from '/Users/francesco/Projects/rhm-master/random-hierarchy-model/models/../models/__init__.py'>"
      ]
     },
     "execution_count": 1,
     "metadata": {},
     "output_type": "execute_result"
    }
   ],
   "source": [
    "import sys\n",
    "sys.path.append('../')\n",
    "\n",
    "import numpy as np\n",
    "import random\n",
    "import torch\n",
    "import torch.nn as nn\n",
    "import torch.nn.functional as F\n",
    "import torch.optim as optim\n",
    "import torch.utils.data as data_utils\n",
    "\n",
    "import datasets\n",
    "import models\n",
    "import importlib\n",
    "importlib.reload(datasets)\n",
    "importlib.reload(models)"
   ]
  },
  {
   "cell_type": "markdown",
   "metadata": {},
   "source": [
    "## IMPORT A HIERARCHICAL DATASET TO TEST THE MODELS"
   ]
  },
  {
   "cell_type": "code",
   "execution_count": 9,
   "metadata": {},
   "outputs": [
    {
     "name": "stdout",
     "output_type": "stream",
     "text": [
      "input: tensor of size torch.Size([1024, 16, 16])\n",
      "outputs: tensor of size torch.Size([1024])\n",
      "total dataset size: 17179869184.0\n"
     ]
    }
   ],
   "source": [
    "v = 16\n",
    "m = 4\n",
    "L = 4\n",
    "n = 16\n",
    "s = 2\n",
    "\n",
    "input_size = s**L # number of pixels, actual input size is (input_size x num_features) because of one-hot encoding\n",
    "num_data = n * (m**((s**L-1)/(s-1))) # total number of data\n",
    "\n",
    "seed_rules = 12345678 # seed of the random hierarchy model\n",
    "train_size = 1024 # size of the training set\n",
    "test_size = 0 # size of the test set\n",
    "\n",
    "# to generate the full dataset: set trainset=num_data, test_size=0\n",
    "\n",
    "dataset = datasets.RandomHierarchyModel(\n",
    "    num_features=v, # vocabulary size\n",
    "    num_synonyms=m, # features multiplicity\n",
    "    num_layers=L, # number of layers\n",
    "    num_classes=n, # number of classes\n",
    "    tuple_size=s, # number of branches of the tree\n",
    "    seed_rules=seed_rules,\n",
    "    train_size=train_size,\n",
    "    test_size=test_size,\n",
    "    input_format='onehot',\n",
    "    whitening=0 # 1 to whiten the input\n",
    ")\n",
    "\n",
    "x = dataset.features\n",
    "y = dataset.labels\n",
    "print('input: tensor of size', x.size())\n",
    "print('outputs: tensor of size', y.size())\n",
    "print('total dataset size:', num_data)"
   ]
  },
  {
   "cell_type": "code",
   "execution_count": 10,
   "metadata": {},
   "outputs": [
    {
     "name": "stdout",
     "output_type": "stream",
     "text": [
      "MLP(\n",
      "  (hidden): Sequential(\n",
      "    (0): Sequential(\n",
      "      (0): MyLinear()\n",
      "      (1): ReLU()\n",
      "    )\n",
      "    (1): Sequential(\n",
      "      (0): MyLinear()\n",
      "      (1): ReLU()\n",
      "    )\n",
      "    (2): Sequential(\n",
      "      (0): MyLinear()\n",
      "      (1): ReLU()\n",
      "    )\n",
      "    (3): Sequential(\n",
      "      (0): MyLinear()\n",
      "      (1): ReLU()\n",
      "    )\n",
      "  )\n",
      ")\n",
      "1-th layer weights, size: torch.Size([512, 256])\n",
      "2-th layer weights, size: torch.Size([512, 512])\n",
      "3-th layer weights, size: torch.Size([512, 512])\n",
      "4-th layer weights, size: torch.Size([512, 512])\n",
      "readout weights, size: torch.Size([512, 16])\n",
      "torch.Size([1024, 16])\n",
      "925696\n"
     ]
    }
   ],
   "source": [
    "depth = 4\n",
    "width = 512\n",
    "\n",
    "model_fcn = models.MLP( input_size*v, width, n, depth)\n",
    "print(model_fcn)\n",
    "\n",
    "for i in range(depth):\n",
    "    print(f'{i+1}-th layer weights, size:', model_fcn.hidden[i][0].weight.size())\n",
    "print(f'readout weights, size:', model_fcn.readout.size())\n",
    "\n",
    "model_y = model_fcn(x.flatten(start_dim=1))\n",
    "print(model_y.size())\n",
    "\n",
    "param_count = sum([p.numel() for p in model_fcn.parameters()])\n",
    "print(param_count)"
   ]
  },
  {
   "cell_type": "code",
   "execution_count": 16,
   "metadata": {},
   "outputs": [
    {
     "name": "stdout",
     "output_type": "stream",
     "text": [
      "hCNN(\n",
      "  (hidden): Sequential(\n",
      "    (0): Sequential(\n",
      "      (0): MyConv1d()\n",
      "      (1): ReLU()\n",
      "    )\n",
      "    (1): Sequential(\n",
      "      (0): MyConv1d()\n",
      "      (1): ReLU()\n",
      "    )\n",
      "    (2): Sequential(\n",
      "      (0): MyConv1d()\n",
      "      (1): ReLU()\n",
      "    )\n",
      "    (3): Sequential(\n",
      "      (0): MyConv1d()\n",
      "      (1): ReLU()\n",
      "    )\n",
      "  )\n",
      ")\n",
      "1-th layer weights, size: torch.Size([724, 16, 2])\n",
      "2-th layer weights, size: torch.Size([724, 724, 2])\n",
      "3-th layer weights, size: torch.Size([724, 724, 2])\n",
      "4-th layer weights, size: torch.Size([724, 724, 2])\n",
      "readout weights, size: torch.Size([724, 16])\n",
      "1-th hidden rep. size: torch.Size([1024, 724, 8])\n",
      "2-th hidden rep. size: torch.Size([1024, 724, 4])\n",
      "3-th hidden rep. size: torch.Size([1024, 724, 2])\n",
      "4-th hidden rep. size: torch.Size([1024, 724, 1])\n",
      "torch.Size([1024, 16])\n",
      "3179808\n"
     ]
    }
   ],
   "source": [
    "depth = 4\n",
    "width = 724\n",
    "\n",
    "model_cnn = models.hCNN( input_size, s, v, width, n, depth)\n",
    "\n",
    "print(model_cnn)\n",
    "\n",
    "for i in range(depth):\n",
    "    print(f'{i+1}-th layer weights, size:', model_cnn.hidden[i][0].filter.size())\n",
    "print(f'readout weights, size:', model_cnn.readout.size())\n",
    "\n",
    "model_y = x\n",
    "for i in range(depth):\n",
    "    model_y = model_cnn.hidden[i][0](model_y).relu()\n",
    "    print(f'{i+1}-th hidden rep. size:', model_y.size())\n",
    "model_y = model_cnn(x)\n",
    "print(model_y.size())\n",
    "\n",
    "param_count = sum([p.numel() for p in model_cnn.parameters()])\n",
    "print(param_count)"
   ]
  },
  {
   "cell_type": "code",
   "execution_count": 17,
   "metadata": {},
   "outputs": [
    {
     "name": "stdout",
     "output_type": "stream",
     "text": [
      "hLCN(\n",
      "  (hidden): Sequential(\n",
      "    (0): Sequential(\n",
      "      (0): MyLoc1d()\n",
      "      (1): ReLU()\n",
      "    )\n",
      "    (1): Sequential(\n",
      "      (0): MyLoc1d()\n",
      "      (1): ReLU()\n",
      "    )\n",
      "    (2): Sequential(\n",
      "      (0): MyLoc1d()\n",
      "      (1): ReLU()\n",
      "    )\n",
      "    (3): Sequential(\n",
      "      (0): MyLoc1d()\n",
      "      (1): ReLU()\n",
      "    )\n",
      "  )\n",
      ")\n",
      "1-th layer weights, size: torch.Size([512, 16, 8, 2])\n",
      "2-th layer weights, size: torch.Size([512, 512, 4, 2])\n",
      "3-th layer weights, size: torch.Size([512, 512, 2, 2])\n",
      "4-th layer weights, size: torch.Size([512, 512, 1, 2])\n",
      "readout weights, size: torch.Size([512, 16])\n",
      "1-th hidden rep. size: torch.Size([1024, 512, 8])\n",
      "2-th hidden rep. size: torch.Size([1024, 512, 4])\n",
      "3-th hidden rep. size: torch.Size([1024, 512, 2])\n",
      "4-th hidden rep. size: torch.Size([1024, 512, 1])\n",
      "torch.Size([1024, 16])\n",
      "3809280\n"
     ]
    }
   ],
   "source": [
    "depth = 4\n",
    "width = 512\n",
    "\n",
    "model_cnn = models.hLCN( input_size, s, v, width, n, depth)\n",
    "\n",
    "print(model_cnn)\n",
    "\n",
    "for i in range(depth):\n",
    "    print(f'{i+1}-th layer weights, size:', model_cnn.hidden[i][0].filter.size())\n",
    "print(f'readout weights, size:', model_cnn.readout.size())\n",
    "\n",
    "model_y = x\n",
    "for i in range(depth):\n",
    "    model_y = model_cnn.hidden[i][0](model_y).relu()\n",
    "    print(f'{i+1}-th hidden rep. size:', model_y.size())\n",
    "model_y = model_cnn(x)\n",
    "print(model_y.size())\n",
    "\n",
    "param_count = sum([p.numel() for p in model_cnn.parameters()])\n",
    "print(param_count)"
   ]
  },
  {
   "cell_type": "code",
   "execution_count": null,
   "metadata": {},
   "outputs": [
    {
     "name": "stdout",
     "output_type": "stream",
     "text": [
      "MLA(\n",
      "  (position_embedding): Embedding(8, 256)\n",
      "  (blocks): Sequential(\n",
      "    (0): AttentionBlock(\n",
      "      (sa): MultiHeadAttention()\n",
      "    )\n",
      "    (1): AttentionBlock(\n",
      "      (sa): MultiHeadAttention()\n",
      "    )\n",
      "    (2): AttentionBlock(\n",
      "      (sa): MultiHeadAttention()\n",
      "    )\n",
      "  )\n",
      ")\n",
      "embedding: torch.Size([256, 8])\n",
      "readout size: torch.Size([8, 256])\n",
      "torch.Size([1024, 8])\n"
     ]
    }
   ],
   "source": [
    "embedding_dim = 256\n",
    "num_heads = 8\n",
    "depth = 3\n",
    "\n",
    "model_mla = models.MLA( v, input_size, embedding_dim, num_heads, depth)\n",
    "print(model_mla)\n",
    "print('embedding:', model_mla.token_embedding.size())\n",
    "print('readout size:', model_mla.readout.size())\n",
    "\n",
    "\n",
    "model_y = x.transpose(1,2)\n",
    "\n",
    "# for i in range(depth):\n",
    "#     model_y = model_mla.blocks[i].sa(model_y)\n",
    "#     print(f'{i+1}-th hidden rep. size:', model_y.size())\n",
    "model_y = model_mla(model_y)\n",
    "print(model_y.size())"
   ]
  },
  {
   "cell_type": "code",
   "execution_count": null,
   "metadata": {},
   "outputs": [],
   "source": []
  }
 ],
 "metadata": {
  "kernelspec": {
   "display_name": "rhm",
   "language": "python",
   "name": "python3"
  },
  "language_info": {
   "codemirror_mode": {
    "name": "ipython",
    "version": 3
   },
   "file_extension": ".py",
   "mimetype": "text/x-python",
   "name": "python",
   "nbconvert_exporter": "python",
   "pygments_lexer": "ipython3",
   "version": "3.11.10"
  }
 },
 "nbformat": 4,
 "nbformat_minor": 4
}
