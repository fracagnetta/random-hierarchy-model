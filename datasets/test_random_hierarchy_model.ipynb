{
 "cells": [
  {
   "cell_type": "markdown",
   "metadata": {},
   "source": [
    "## TEST DATASET INITIALISATION"
   ]
  },
  {
   "cell_type": "code",
   "execution_count": 3,
   "metadata": {},
   "outputs": [
    {
     "data": {
      "text/plain": [
       "<module 'datasets' from '/home/cagnetta/Projects/hierarchy-learning/datasets/../datasets/__init__.py'>"
      ]
     },
     "execution_count": 3,
     "metadata": {},
     "output_type": "execute_result"
    }
   ],
   "source": [
    "import sys\n",
    "sys.path.append('../')\n",
    "\n",
    "import numpy as np\n",
    "import random\n",
    "import torch\n",
    "import torch.nn as nn\n",
    "import torch.nn.functional as F\n",
    "import torch.optim as optim\n",
    "import torch.utils.data as data_utils\n",
    "\n",
    "import datasets\n",
    "import importlib\n",
    "importlib.reload(datasets)"
   ]
  },
  {
   "cell_type": "code",
   "execution_count": 4,
   "metadata": {},
   "outputs": [
    {
     "name": "stdout",
     "output_type": "stream",
     "text": [
      "4 4096.0\n"
     ]
    }
   ],
   "source": [
    "v = 16\n",
    "m = 8\n",
    "L = 2\n",
    "n = 8\n",
    "s = 2\n",
    "\n",
    "input_size = s**L # number of pixels, actual input size is (input_size x num_features) because of one-hot encoding\n",
    "num_data = n * (m**((s**L-1)/(s-1))) # total number of data\n",
    "print(input_size, num_data)"
   ]
  },
  {
   "cell_type": "code",
   "execution_count": 5,
   "metadata": {},
   "outputs": [],
   "source": [
    "seed_rules = 12345678 # seed of the random hierarchy model\n",
    "train_size = 1024 # size of the training set\n",
    "test_size = 1024 # size of the test set\n",
    "\n",
    "# to generate the full dataset: set trainset=num_data, test_size=0\n",
    "\n",
    "dataset = datasets.RandomHierarchyModel(\n",
    "    num_features=v, # vocabulary size\n",
    "    num_synonyms=m, # features multiplicity\n",
    "    num_layers=L, # number of layers\n",
    "    num_classes=n, # number of classes\n",
    "    tuple_size=s, # number of branches of the tree\n",
    "    seed_rules=seed_rules,\n",
    "    train_size=train_size,\n",
    "    test_size=test_size,\n",
    "    input_format='onehot',\n",
    "    whitening=1 # 1 to whiten the input\n",
    ")"
   ]
  },
  {
   "cell_type": "code",
   "execution_count": 8,
   "metadata": {},
   "outputs": [
    {
     "name": "stdout",
     "output_type": "stream",
     "text": [
      "torch.Size([2048, 16, 4])\n",
      "tensor(-2.7603e-10)\n",
      "tensor(1.0000)\n"
     ]
    }
   ],
   "source": [
    "x = dataset.features\n",
    "print(x.size())\n",
    "print(x.mean(dim=1).mean())\n",
    "print(x.norm(dim=1).mean())"
   ]
  },
  {
   "cell_type": "code",
   "execution_count": 9,
   "metadata": {},
   "outputs": [
    {
     "name": "stdout",
     "output_type": "stream",
     "text": [
      "['__add__', '__class__', '__class_getitem__', '__delattr__', '__dict__', '__dir__', '__doc__', '__eq__', '__format__', '__ge__', '__getattribute__', '__getitem__', '__gt__', '__hash__', '__init__', '__init_subclass__', '__le__', '__len__', '__lt__', '__module__', '__ne__', '__new__', '__orig_bases__', '__parameters__', '__reduce__', '__reduce_ex__', '__repr__', '__setattr__', '__sizeof__', '__slots__', '__str__', '__subclasshook__', '__weakref__', '_is_protocol', 'features', 'labels', 'num_classes', 'num_features', 'num_layers', 'num_synonyms', 'transform', 'tuple_size']\n",
      "torch.Size([2048, 16, 4])\n",
      "torch.Size([2048])\n"
     ]
    }
   ],
   "source": [
    "print(dir(dataset)) \n",
    "\n",
    "# for the input points call trainset.input\n",
    "print(dataset.features.size()) # dimension: train_size x num_features x input_size\n",
    "\n",
    "# for the labels call trainset.output\n",
    "print(dataset.labels.size()) # dimension: train_size"
   ]
  },
  {
   "cell_type": "code",
   "execution_count": 10,
   "metadata": {},
   "outputs": [
    {
     "name": "stdout",
     "output_type": "stream",
     "text": [
      "tensor([[-0.0645, -0.0645, -0.0645, -0.0645],\n",
      "        [-0.0645, -0.0645, -0.0645, -0.0645],\n",
      "        [-0.0645, -0.0645, -0.0645, -0.0645],\n",
      "        [ 0.9682, -0.0645, -0.0645, -0.0645],\n",
      "        [-0.0645, -0.0645, -0.0645, -0.0645],\n",
      "        [-0.0645, -0.0645, -0.0645, -0.0645],\n",
      "        [-0.0645, -0.0645, -0.0645,  0.9682],\n",
      "        [-0.0645, -0.0645, -0.0645, -0.0645],\n",
      "        [-0.0645, -0.0645, -0.0645, -0.0645],\n",
      "        [-0.0645, -0.0645, -0.0645, -0.0645],\n",
      "        [-0.0645,  0.9682, -0.0645, -0.0645],\n",
      "        [-0.0645, -0.0645,  0.9682, -0.0645],\n",
      "        [-0.0645, -0.0645, -0.0645, -0.0645],\n",
      "        [-0.0645, -0.0645, -0.0645, -0.0645],\n",
      "        [-0.0645, -0.0645, -0.0645, -0.0645],\n",
      "        [-0.0645, -0.0645, -0.0645, -0.0645]])\n"
     ]
    }
   ],
   "source": [
    "print(dataset.features[0,:,:])"
   ]
  }
 ],
 "metadata": {
  "kernelspec": {
   "display_name": "Python 3",
   "language": "python",
   "name": "python3"
  },
  "language_info": {
   "codemirror_mode": {
    "name": "ipython",
    "version": 3
   },
   "file_extension": ".py",
   "mimetype": "text/x-python",
   "name": "python",
   "nbconvert_exporter": "python",
   "pygments_lexer": "ipython3",
   "version": "3.8.10"
  }
 },
 "nbformat": 4,
 "nbformat_minor": 4
}
