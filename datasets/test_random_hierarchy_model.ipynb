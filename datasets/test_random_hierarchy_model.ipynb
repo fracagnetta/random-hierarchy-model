{
 "cells": [
  {
   "cell_type": "markdown",
   "metadata": {},
   "source": [
    "## TEST DATASET INITIALISATION"
   ]
  },
  {
   "cell_type": "code",
   "execution_count": 1,
   "metadata": {},
   "outputs": [],
   "source": [
    "import sys\n",
    "sys.path.append('../')\n",
    "\n",
    "import numpy as np\n",
    "import random\n",
    "import torch\n",
    "import torch.nn as nn\n",
    "import torch.nn.functional as F\n",
    "import torch.optim as optim\n",
    "import torch.utils.data as data_utils\n",
    "\n",
    "import datasets\n",
    "import importlib\n",
    "importlib.reload(datasets)\n",
    "\n",
    "from datasets.utils import dec2bin, dec2base\n",
    "from datasets.random_hierarchy_model import sample_rules"
   ]
  },
  {
   "cell_type": "code",
   "execution_count": 41,
   "metadata": {},
   "outputs": [
    {
     "name": "stdout",
     "output_type": "stream",
     "text": [
      "2 4\n"
     ]
    }
   ],
   "source": [
    "n = 2\n",
    "v = 2\n",
    "m = 2\n",
    "\n",
    "L = 1\n",
    "s = 2\n",
    "\n",
    "input_size = s**L # number of pixels, actual input size is (input_size x num_features) because of one-hot encoding\n",
    "num_data = n * (m**((s**L-1)//(s-1))) # total number of data\n",
    "print(input_size, num_data)"
   ]
  },
  {
   "cell_type": "markdown",
   "metadata": {},
   "source": [
    "## STANDARD SAMPLING (WITHOUT REPLACEMENT)"
   ]
  },
  {
   "cell_type": "code",
   "execution_count": 42,
   "metadata": {},
   "outputs": [
    {
     "name": "stdout",
     "output_type": "stream",
     "text": [
      "23924332\n"
     ]
    }
   ],
   "source": [
    "random.seed()\n",
    "seed_rules = 12345678 # seed of the random hierarchy model\n",
    "seed_sample = random.randrange(10000000,99999999)\n",
    "print('sampling seed:', seed_sample)\n",
    "\n",
    "train_size = -1 # size of the training set\n",
    "test_size = 0 # size of the test set\n",
    "input_format = 'long' # alternative: onehot\n",
    "# to generate the full dataset: set trainset=num_data, test_size=0\n",
    "\n",
    "dataset = datasets.RandomHierarchyModel(\n",
    "    num_features=v, # vocabulary size\n",
    "    num_synonyms=m, # features multiplicity\n",
    "    num_layers=L, # number of layers\n",
    "    num_classes=n, # number of classes\n",
    "    tuple_size=s, # number of branches of the tree\n",
    "    seed_rules=seed_rules,\n",
    "    seed_sample=seed_sample,\n",
    "    train_size=train_size,\n",
    "    test_size=test_size,\n",
    "    input_format=input_format,\n",
    "    whitening=0, # 1 to whiten the input\n",
    "    replacement=False\n",
    ")\n",
    "\n",
    "print(dir(dataset)) \n",
    "# for the input points call trainset.input\n",
    "print(dataset.features.size()) # dimension: train_size x num_features x input_size\n",
    "# for the labels call trainset.output\n",
    "print(dataset.labels.size()) # dimension: train_size"
   ]
  },
  {
   "cell_type": "code",
   "execution_count": 43,
   "metadata": {},
   "outputs": [
    {
     "name": "stdout",
     "output_type": "stream",
     "text": [
      "torch.Size([4, 2])\n",
      "tensor([1, 1]) tensor(0)\n",
      "tensor([2, 1]) tensor(0)\n",
      "tensor([2, 2]) tensor(1)\n",
      "tensor([1, 2]) tensor(1)\n"
     ]
    }
   ],
   "source": [
    "x = dataset.features\n",
    "print(x.size())\n",
    "\n",
    "if 'onehot' in input_format:\n",
    "    print(x.mean(dim=1).mean())\n",
    "    print(x.norm(dim=1).mean())\n",
    "\n",
    "elif 'long' in input_format:\n",
    "    for i in range(x.size(0)):\n",
    "        print(x[i,:], dataset.labels[i])"
   ]
  },
  {
   "cell_type": "code",
   "execution_count": 44,
   "metadata": {},
   "outputs": [
    {
     "name": "stdout",
     "output_type": "stream",
     "text": [
      "rules: list of length  1 ,\n",
      "first element of size  torch.Size([2, 2, 2]) , (num_classes x num_synonyms x tuple_size)\n",
      "rules[l][v,j] = j-th rep of the v-th level-(L-l) feature,\n",
      "e.g. list of tuples corresponding to class 0:\n",
      "tensor([[0, 0],\n",
      "        [1, 0]])\n"
     ]
    }
   ],
   "source": [
    "L = len(dataset.rules)\n",
    "print('rules: list of length ', len(dataset.rules), ',')\n",
    "print('first element of size ', dataset.rules[0].size(), ', (num_classes x num_synonyms x tuple_size)')\n",
    "\n",
    "for l in range(1,L):\n",
    "    print(f'{l+1}-th element of size ', dataset.rules[l].size(), ', (num_features x num_synonyms x tuple_size)')\n",
    "print('rules[l][v,j] = j-th rep of the v-th level-(L-l) feature,')\n",
    "print('e.g. list of tuples corresponding to class 0:')\n",
    "print(dataset.rules[0][0,:])"
   ]
  },
  {
   "cell_type": "markdown",
   "metadata": {},
   "source": [
    "## SAMPLING WITH REPLACEMENT (REQUIRED FOR DATASET LARGER THAN sys.maxsize)"
   ]
  },
  {
   "cell_type": "code",
   "execution_count": 60,
   "metadata": {},
   "outputs": [
    {
     "name": "stdout",
     "output_type": "stream",
     "text": [
      "sampling seed: 37774993\n"
     ]
    }
   ],
   "source": [
    "random.seed()\n",
    "seed_rules = 12345678 # seed of the random hierarchy model\n",
    "seed_sample = random.randrange(10000000,99999999)\n",
    "print('sampling seed:', seed_sample)\n",
    "\n",
    "train_size = -1 # size of the training set\n",
    "test_size = 0 # size of the test set\n",
    "input_format = 'long' # alternative: onehot\n",
    "# to generate the full dataset: set trainset=num_data, test_size=0\n",
    "\n",
    "dataset = datasets.RandomHierarchyModel(\n",
    "    num_features=v, # vocabulary size\n",
    "    num_synonyms=m, # features multiplicity\n",
    "    num_layers=L, # number of layers\n",
    "    num_classes=n, # number of classes\n",
    "    tuple_size=s, # number of branches of the tree\n",
    "    seed_rules=seed_rules,\n",
    "    seed_sample=seed_sample,\n",
    "    train_size=train_size,\n",
    "    test_size=test_size,\n",
    "    input_format=input_format,\n",
    "    whitening=0, # 1 to whiten the input\n",
    "    replacement=True\n",
    ")"
   ]
  },
  {
   "cell_type": "code",
   "execution_count": 61,
   "metadata": {},
   "outputs": [
    {
     "name": "stdout",
     "output_type": "stream",
     "text": [
      "torch.Size([4, 2])\n",
      "tensor([2, 1]) tensor(0)\n",
      "tensor([2, 2]) tensor(1)\n",
      "tensor([1, 1]) tensor(0)\n",
      "tensor([1, 1]) tensor(0)\n"
     ]
    }
   ],
   "source": [
    "x = dataset.features\n",
    "print(x.size())\n",
    "\n",
    "if 'onehot' in input_format:\n",
    "    print(x.mean(dim=1).mean())\n",
    "    print(x.norm(dim=1).mean())\n",
    "\n",
    "elif 'long' in input_format:\n",
    "    for i in range(x.size(0)):\n",
    "        print(x[i,:], dataset.labels[i])"
   ]
  },
  {
   "cell_type": "code",
   "execution_count": null,
   "metadata": {},
   "outputs": [],
   "source": []
  }
 ],
 "metadata": {
  "kernelspec": {
   "display_name": "rhm",
   "language": "python",
   "name": "rhm"
  },
  "language_info": {
   "codemirror_mode": {
    "name": "ipython",
    "version": 3
   },
   "file_extension": ".py",
   "mimetype": "text/x-python",
   "name": "python",
   "nbconvert_exporter": "python",
   "pygments_lexer": "ipython3",
   "version": "3.11.4"
  }
 },
 "nbformat": 4,
 "nbformat_minor": 4
}
